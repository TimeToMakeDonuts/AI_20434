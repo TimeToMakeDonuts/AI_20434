{
  "nbformat": 4,
  "nbformat_minor": 0,
  "metadata": {
    "colab": {
      "provenance": []
    },
    "kernelspec": {
      "name": "python3",
      "display_name": "Python 3"
    },
    "language_info": {
      "name": "python"
    }
  },
  "cells": [
    {
      "cell_type": "code",
      "execution_count": 2,
      "metadata": {
        "id": "_UwgCN--76IR"
      },
      "outputs": [],
      "source": [
        "import numpy as np\n",
        "import tensorflow as tf\n",
        "import cv2\n",
        "import matplotlib.pyplot as plt\n",
        "import tensorflow_datasets as tfds\n"
      ]
    },
    {
      "cell_type": "code",
      "source": [
        "mnist_dataset, mnist_info = tfds.load(name='mnist', with_info=True, as_supervised=True)\n",
        "\n",
        "mnist_train, mnist_test = mnist_dataset['train'], mnist_dataset['test']\n",
        "\n",
        "num_validation_samples = 0.1 * mnist_info.splits['train'].num_examples\n",
        "num_validation_samples = tf.cast(num_validation_samples, tf.int64)\n",
        "\n",
        "num_test_samples = mnist_info.splits['test'].num_examples\n",
        "num_test_samples = tf.cast(num_test_samples, tf.int64)"
      ],
      "metadata": {
        "id": "OvH6gnn88Sjf"
      },
      "execution_count": 3,
      "outputs": []
    },
    {
      "cell_type": "code",
      "source": [
        "def scale(image, label):\n",
        "    image = tf.cast(image, tf.float32)\n",
        "    image /= 255.\n",
        "    return image, label\n",
        "\n",
        "scaled_train_and_validation_data = mnist_train.map(scale)\n",
        "\n",
        "test_data = mnist_test.map(scale)"
      ],
      "metadata": {
        "id": "BjoNnx3B9Bzo"
      },
      "execution_count": 4,
      "outputs": []
    },
    {
      "cell_type": "code",
      "source": [
        "BUFFER_SIZE = 1000\n",
        "\n",
        "shuffled_train_and_validation_data = scaled_train_and_validation_data.shuffle(BUFFER_SIZE)\n",
        "\n",
        "validation_data = shuffled_train_and_validation_data.take(num_validation_samples)\n",
        "train_data = shuffled_train_and_validation_data.skip(num_validation_samples)"
      ],
      "metadata": {
        "id": "7XYSRuIR9ZJ3"
      },
      "execution_count": 5,
      "outputs": []
    },
    {
      "cell_type": "code",
      "source": [
        "BATCH_SIZE = 1000\n",
        "\n",
        "train_data = train_data.batch(BATCH_SIZE)\n",
        "\n",
        "validation_data = validation_data.batch(num_validation_samples)\n",
        "\n",
        "test_data = test_data.batch(num_test_samples)\n",
        "\n",
        "validation_inputs, validation_targets = next(iter(validation_data))\n",
        "print(validation_inputs.shape, validation_targets.shape)"
      ],
      "metadata": {
        "colab": {
          "base_uri": "https://localhost:8080/"
        },
        "id": "veGee4mV-h0P",
        "outputId": "ea77594a-28cc-484c-d95b-0860f9285235"
      },
      "execution_count": 6,
      "outputs": [
        {
          "output_type": "stream",
          "name": "stdout",
          "text": [
            "(6000, 28, 28, 1) (6000,)\n"
          ]
        }
      ]
    },
    {
      "cell_type": "code",
      "source": [
        "input_size = 784\n",
        "output_size = 10\n",
        "\n",
        "hidden_layer_size = 50\n",
        "\n",
        "model = tf.keras.Sequential([\n",
        "    tf.keras.layers.Flatten(input_shape=(28, 28, 1)),\n",
        "    tf.keras.layers.Dense(hidden_layer_size, activation='relu'),\n",
        "    tf.keras.layers.Dense(hidden_layer_size, activation='relu'),\n",
        "\n",
        "    tf.keras.layers.Dense(output_size, activation='softmax')\n",
        "])\n",
        "\n",
        "model.compile(optimizer='adam', loss='sparse_categorical_crossentropy', metrics=['accuracy'])"
      ],
      "metadata": {
        "id": "SZl_vpZh-28p",
        "colab": {
          "base_uri": "https://localhost:8080/"
        },
        "outputId": "06984d9a-756e-4edc-9f0d-ed18f3e63ba2"
      },
      "execution_count": 7,
      "outputs": [
        {
          "output_type": "stream",
          "name": "stderr",
          "text": [
            "/usr/local/lib/python3.11/dist-packages/keras/src/layers/reshaping/flatten.py:37: UserWarning: Do not pass an `input_shape`/`input_dim` argument to a layer. When using Sequential models, prefer using an `Input(shape)` object as the first layer in the model instead.\n",
            "  super().__init__(**kwargs)\n"
          ]
        }
      ]
    },
    {
      "cell_type": "code",
      "source": [
        "NUM_EPOCHS = 30\n",
        "\n",
        "early_stopping = tf.keras.callbacks.EarlyStopping(patience=2)\n",
        "\n",
        "model.fit(train_data, epochs=NUM_EPOCHS,\n",
        "          callbacks=[early_stopping],\n",
        "          validation_data=(validation_inputs, validation_targets),\n",
        "          verbose=1)\n"
      ],
      "metadata": {
        "colab": {
          "base_uri": "https://localhost:8080/"
        },
        "id": "4OSwH6y9Bz4C",
        "outputId": "9b997f9b-4028-48cd-aab9-85042de31f16"
      },
      "execution_count": 8,
      "outputs": [
        {
          "output_type": "stream",
          "name": "stdout",
          "text": [
            "Epoch 1/30\n",
            "54/54 - 8s - 157ms/step - accuracy: 0.7056 - loss: 1.0952 - val_accuracy: 0.8773 - val_loss: 0.4350\n",
            "Epoch 2/30\n",
            "54/54 - 6s - 105ms/step - accuracy: 0.9015 - loss: 0.3534 - val_accuracy: 0.9158 - val_loss: 0.2993\n",
            "Epoch 3/30\n",
            "54/54 - 4s - 69ms/step - accuracy: 0.9218 - loss: 0.2784 - val_accuracy: 0.9278 - val_loss: 0.2544\n",
            "Epoch 4/30\n",
            "54/54 - 3s - 47ms/step - accuracy: 0.9317 - loss: 0.2406 - val_accuracy: 0.9347 - val_loss: 0.2262\n",
            "Epoch 5/30\n",
            "54/54 - 3s - 50ms/step - accuracy: 0.9398 - loss: 0.2122 - val_accuracy: 0.9400 - val_loss: 0.2053\n",
            "Epoch 6/30\n",
            "54/54 - 3s - 51ms/step - accuracy: 0.9470 - loss: 0.1878 - val_accuracy: 0.9453 - val_loss: 0.1865\n",
            "Epoch 7/30\n",
            "54/54 - 6s - 105ms/step - accuracy: 0.9524 - loss: 0.1683 - val_accuracy: 0.9483 - val_loss: 0.1717\n",
            "Epoch 8/30\n",
            "54/54 - 5s - 100ms/step - accuracy: 0.9571 - loss: 0.1516 - val_accuracy: 0.9518 - val_loss: 0.1600\n",
            "Epoch 9/30\n",
            "54/54 - 5s - 95ms/step - accuracy: 0.9602 - loss: 0.1393 - val_accuracy: 0.9552 - val_loss: 0.1526\n",
            "Epoch 10/30\n",
            "54/54 - 6s - 104ms/step - accuracy: 0.9630 - loss: 0.1286 - val_accuracy: 0.9560 - val_loss: 0.1441\n",
            "Epoch 11/30\n",
            "54/54 - 8s - 154ms/step - accuracy: 0.9655 - loss: 0.1201 - val_accuracy: 0.9568 - val_loss: 0.1400\n",
            "Epoch 12/30\n",
            "54/54 - 3s - 48ms/step - accuracy: 0.9679 - loss: 0.1122 - val_accuracy: 0.9590 - val_loss: 0.1332\n",
            "Epoch 13/30\n",
            "54/54 - 3s - 48ms/step - accuracy: 0.9703 - loss: 0.1041 - val_accuracy: 0.9600 - val_loss: 0.1280\n",
            "Epoch 14/30\n",
            "54/54 - 3s - 48ms/step - accuracy: 0.9720 - loss: 0.0982 - val_accuracy: 0.9622 - val_loss: 0.1261\n",
            "Epoch 15/30\n",
            "54/54 - 3s - 58ms/step - accuracy: 0.9737 - loss: 0.0930 - val_accuracy: 0.9618 - val_loss: 0.1244\n",
            "Epoch 16/30\n",
            "54/54 - 5s - 86ms/step - accuracy: 0.9752 - loss: 0.0877 - val_accuracy: 0.9615 - val_loss: 0.1225\n",
            "Epoch 17/30\n",
            "54/54 - 5s - 92ms/step - accuracy: 0.9765 - loss: 0.0834 - val_accuracy: 0.9625 - val_loss: 0.1205\n",
            "Epoch 18/30\n",
            "54/54 - 4s - 65ms/step - accuracy: 0.9775 - loss: 0.0788 - val_accuracy: 0.9630 - val_loss: 0.1182\n",
            "Epoch 19/30\n",
            "54/54 - 3s - 48ms/step - accuracy: 0.9785 - loss: 0.0757 - val_accuracy: 0.9635 - val_loss: 0.1157\n",
            "Epoch 20/30\n",
            "54/54 - 3s - 49ms/step - accuracy: 0.9800 - loss: 0.0718 - val_accuracy: 0.9645 - val_loss: 0.1125\n",
            "Epoch 21/30\n",
            "54/54 - 3s - 49ms/step - accuracy: 0.9807 - loss: 0.0686 - val_accuracy: 0.9655 - val_loss: 0.1119\n",
            "Epoch 22/30\n",
            "54/54 - 3s - 54ms/step - accuracy: 0.9819 - loss: 0.0658 - val_accuracy: 0.9675 - val_loss: 0.1087\n",
            "Epoch 23/30\n",
            "54/54 - 5s - 95ms/step - accuracy: 0.9830 - loss: 0.0626 - val_accuracy: 0.9667 - val_loss: 0.1103\n",
            "Epoch 24/30\n",
            "54/54 - 3s - 47ms/step - accuracy: 0.9838 - loss: 0.0601 - val_accuracy: 0.9673 - val_loss: 0.1086\n",
            "Epoch 25/30\n",
            "54/54 - 3s - 48ms/step - accuracy: 0.9843 - loss: 0.0577 - val_accuracy: 0.9678 - val_loss: 0.1086\n",
            "Epoch 26/30\n",
            "54/54 - 4s - 67ms/step - accuracy: 0.9854 - loss: 0.0548 - val_accuracy: 0.9680 - val_loss: 0.1055\n",
            "Epoch 27/30\n",
            "54/54 - 3s - 49ms/step - accuracy: 0.9859 - loss: 0.0531 - val_accuracy: 0.9677 - val_loss: 0.1078\n",
            "Epoch 28/30\n",
            "54/54 - 5s - 94ms/step - accuracy: 0.9870 - loss: 0.0501 - val_accuracy: 0.9690 - val_loss: 0.1052\n",
            "Epoch 29/30\n",
            "54/54 - 4s - 74ms/step - accuracy: 0.9876 - loss: 0.0480 - val_accuracy: 0.9682 - val_loss: 0.1068\n",
            "Epoch 30/30\n",
            "54/54 - 4s - 67ms/step - accuracy: 0.9878 - loss: 0.0467 - val_accuracy: 0.9690 - val_loss: 0.1037\n"
          ]
        },
        {
          "output_type": "execute_result",
          "data": {
            "text/plain": [
              "<keras.src.callbacks.history.History at 0x7b28463394d0>"
            ]
          },
          "metadata": {},
          "execution_count": 8
        }
      ]
    },
    {
      "cell_type": "code",
      "source": [
        "test_loss, test_accuracy = model.evaluate(test_data)\n",
        "print('Test loss: {0:.2f}. Test accuracy: {1:.2f}%'.format(test_loss, test_accuracy*100.))"
      ],
      "metadata": {
        "colab": {
          "base_uri": "https://localhost:8080/"
        },
        "id": "Pzot7LwaCMIa",
        "outputId": "f875f94b-23ff-4d54-b585-5a4c04b549af"
      },
      "execution_count": 9,
      "outputs": [
        {
          "output_type": "stream",
          "name": "stdout",
          "text": [
            "\u001b[1m1/1\u001b[0m \u001b[32m━━━━━━━━━━━━━━━━━━━━\u001b[0m\u001b[37m\u001b[0m \u001b[1m1s\u001b[0m 817ms/step - accuracy: 0.9716 - loss: 0.0952\n",
            "Test loss: 0.10. Test accuracy: 97.16%\n"
          ]
        }
      ]
    },
    {
      "cell_type": "code",
      "source": [
        "\n",
        "# Ładujemy obrazek\n",
        "image = cv2.imread(\"my_digit.png\", cv2.IMREAD_GRAYSCALE)\n",
        "\n",
        "image_resized = cv2.resize(image, (28, 28), interpolation=cv2.INTER_AREA)\n",
        "\n",
        "# Odwracamy kolory (czarne tło → białe tło, biała cyfra → czarna)\n",
        "image_inverted = 255 - image_resized\n",
        "\n",
        "# Normalizacja i reshaping\n",
        "image_scaled = image_inverted / 255.0\n",
        "image_reshaped = image_scaled.reshape(1, 28, 28, 1)\n",
        "\n",
        "# Przewidujemy\n",
        "prediction = model.predict(image_reshaped)\n",
        "predicted_label = np.argmax(prediction)\n",
        "\n",
        "print(f\"Model mówi: {predicted_label} 🎉\")"
      ],
      "metadata": {
        "colab": {
          "base_uri": "https://localhost:8080/"
        },
        "id": "I5rvWdQqDxOr",
        "outputId": "d5f0953d-56a6-40b9-f876-42b7364d5e8e"
      },
      "execution_count": 20,
      "outputs": [
        {
          "output_type": "stream",
          "name": "stdout",
          "text": [
            "\u001b[1m1/1\u001b[0m \u001b[32m━━━━━━━━━━━━━━━━━━━━\u001b[0m\u001b[37m\u001b[0m \u001b[1m0s\u001b[0m 40ms/step\n",
            "Model mówi: 2 🎉\n"
          ]
        }
      ]
    }
  ]
}